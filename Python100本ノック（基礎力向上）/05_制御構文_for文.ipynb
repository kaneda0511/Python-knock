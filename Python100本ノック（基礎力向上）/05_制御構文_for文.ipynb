{
 "cells": [
  {
   "cell_type": "markdown",
   "metadata": {},
   "source": [
    "# 05.制御構文(for文)\n",
    " for文を使って繰り返しの処理を行おう"
   ]
  },
  {
   "cell_type": "markdown",
   "metadata": {},
   "source": [
    "## 問題25 リストから順に表示\n",
    "\n",
    "- リスト型の変数names(`['John', 'Kevin', 'Louis']`)から順に名前を出力しましょう。\n",
    "\n",
    "（目安時間：1分）\n"
   ]
  },
  {
   "cell_type": "markdown",
   "metadata": {},
   "source": [
    "### 解答"
   ]
  },
  {
   "cell_type": "code",
   "execution_count": 2,
   "metadata": {},
   "outputs": [
    {
     "name": "stdout",
     "output_type": "stream",
     "text": [
      "John\n",
      "Kevin\n",
      "Louis\n"
     ]
    }
   ],
   "source": [
    "names = ['John', 'Kevin', 'Louis']\n",
    "for name in names:\n",
    "    print(name)"
   ]
  },
  {
   "cell_type": "markdown",
   "metadata": {},
   "source": [
    "## 問題26 range関数を使う\n",
    "\n",
    "- range関数を用いて0~9を出力しましょう。\n",
    "\n",
    "（目安時間：1分）"
   ]
  },
  {
   "cell_type": "markdown",
   "metadata": {},
   "source": [
    "### 解答"
   ]
  },
  {
   "cell_type": "code",
   "execution_count": 7,
   "metadata": {},
   "outputs": [
    {
     "name": "stdout",
     "output_type": "stream",
     "text": [
      "0\n",
      "1\n",
      "2\n",
      "3\n",
      "4\n",
      "5\n",
      "終了\n"
     ]
    }
   ],
   "source": [
    "for i in range(10):\n",
    "    if i==6:\n",
    "        print(\"終了\")\n",
    "        break\n",
    "    print(i)"
   ]
  },
  {
   "cell_type": "markdown",
   "metadata": {},
   "source": [
    "## 問題27 ループの途中で強制終了\n",
    "\n",
    "- 問題26の処理に追加で`i=6`の時「BREAK!」と出力してループを抜け出すよう実装しましょう。\n",
    "\n",
    "（目安時間：1分）\n"
   ]
  },
  {
   "cell_type": "markdown",
   "metadata": {},
   "source": [
    "### 解答"
   ]
  },
  {
   "cell_type": "code",
   "execution_count": 8,
   "metadata": {},
   "outputs": [
    {
     "name": "stdout",
     "output_type": "stream",
     "text": [
      "0\n",
      "1\n",
      "2\n",
      "3\n",
      "4\n",
      "5\n",
      "6\n"
     ]
    }
   ],
   "source": [
    "for i in range(10):\n",
    "    print(i)\n",
    "    if i == 6:\n",
    "        break"
   ]
  },
  {
   "cell_type": "markdown",
   "metadata": {},
   "source": [
    "## 問題28 ループの途中で特別な処理\n",
    "\n",
    "- 問題26の処理に追加で`i=3`の時のみ出力結果が出ないように実装しましょう。\n",
    "\n",
    "（目安時間：1分）\n"
   ]
  },
  {
   "cell_type": "markdown",
   "metadata": {},
   "source": [
    "### 解答"
   ]
  },
  {
   "cell_type": "code",
   "execution_count": 9,
   "metadata": {},
   "outputs": [
    {
     "name": "stdout",
     "output_type": "stream",
     "text": [
      "0\n",
      "1\n",
      "2\n",
      "4\n",
      "5\n",
      "6\n",
      "7\n",
      "8\n",
      "9\n"
     ]
    }
   ],
   "source": [
    "for i in range(10):\n",
    "    if i==3:\n",
    "        continue\n",
    "    print(i)"
   ]
  },
  {
   "cell_type": "markdown",
   "metadata": {},
   "source": [
    "## 問題29 複数のリストを同時に処理\n",
    "\n",
    "- 2つの変数(`lasts=['加藤', '佐藤', '田中']`, `firsts=['雄一', '拓也', '太郎']`)を用意\n",
    "- zip関数を用いて2つのリストから姓名を同時に出力しましょう\n",
    "\n",
    "（目安時間：2分）\n"
   ]
  },
  {
   "cell_type": "markdown",
   "metadata": {},
   "source": [
    "### 解答"
   ]
  },
  {
   "cell_type": "code",
   "execution_count": 10,
   "metadata": {},
   "outputs": [],
   "source": [
    "lasts=['加藤', '佐藤', '田中']\n",
    "firsts=['雄一', '拓也', '太郎']"
   ]
  },
  {
   "cell_type": "code",
   "execution_count": 11,
   "metadata": {},
   "outputs": [
    {
     "name": "stdout",
     "output_type": "stream",
     "text": [
      "加藤雄一\n",
      "佐藤拓也\n",
      "田中太郎\n"
     ]
    }
   ],
   "source": [
    "for last,first in zip(lasts,firsts):\n",
    "    print(last+first)"
   ]
  },
  {
   "cell_type": "markdown",
   "metadata": {},
   "source": [
    "複数のリストから要素を同時に取り出したい場合は基本的にはzip関数を使用する"
   ]
  },
  {
   "cell_type": "markdown",
   "metadata": {},
   "source": [
    "## 問題30 リストと同時にインデックス情報の取得\n",
    "\n",
    "\n",
    "- 変数(`lasts=['加藤', '佐藤', '田中']`)を用意\n",
    "- enumerate関数を使って苗字とそのインデックスを取得しましょう\n",
    "- 「xx番のyyです。」と出力しましょう\n",
    "\n",
    "（目安時間：1分）\n"
   ]
  },
  {
   "cell_type": "markdown",
   "metadata": {},
   "source": [
    "### 解答"
   ]
  },
  {
   "cell_type": "code",
   "execution_count": 12,
   "metadata": {},
   "outputs": [],
   "source": [
    "lasts=['加藤', '佐藤', '田中']"
   ]
  },
  {
   "cell_type": "code",
   "execution_count": 14,
   "metadata": {},
   "outputs": [
    {
     "name": "stdout",
     "output_type": "stream",
     "text": [
      "0番目の,加藤です\n",
      "1番目の,佐藤です\n",
      "2番目の,田中です\n"
     ]
    }
   ],
   "source": [
    "for i,last in enumerate(lasts):\n",
    "    print(f\"{i}番目の,{last}です\")"
   ]
  },
  {
   "cell_type": "markdown",
   "metadata": {},
   "source": [
    "リストの要素とインデックス番号を同時に取得したい場合にはenumerate関数を使用する"
   ]
  },
  {
   "cell_type": "markdown",
   "metadata": {},
   "source": [
    "## 問題31 内包表記\n",
    "\n",
    "- 以下の2つのパターンで0から9未満となる2の倍数が入ったリスト(`[0, 2, 4, 6, 8]`)を作成しましょう。\n",
    "    - 空のリスト`nums`を予め用意しforループ内で`.append()`関数を用いて要素を追加する\n",
    "    - 1行で同様のリスト`numbers`を作成する\n",
    "    \n",
    "（目安時間：3分）\n"
   ]
  },
  {
   "cell_type": "markdown",
   "metadata": {},
   "source": [
    "### 解答"
   ]
  },
  {
   "cell_type": "code",
   "execution_count": 16,
   "metadata": {},
   "outputs": [
    {
     "name": "stdout",
     "output_type": "stream",
     "text": [
      "[0, 2, 4, 6, 8]\n"
     ]
    }
   ],
   "source": [
    "nums = []\n",
    "for i in range(9):\n",
    "    if i % 2 == 0:\n",
    "        nums.append(i)\n",
    "print(nums)"
   ]
  },
  {
   "cell_type": "code",
   "execution_count": 19,
   "metadata": {},
   "outputs": [
    {
     "name": "stdout",
     "output_type": "stream",
     "text": [
      "[0, 2, 4, 6, 8]\n"
     ]
    }
   ],
   "source": [
    "nums = []\n",
    "for i in range(5):\n",
    "    nums.append(i*2)\n",
    "print(nums)"
   ]
  },
  {
   "cell_type": "code",
   "execution_count": 22,
   "metadata": {},
   "outputs": [
    {
     "name": "stdout",
     "output_type": "stream",
     "text": [
      "[0, 2, 4, 6, 8]\n"
     ]
    }
   ],
   "source": [
    "numbers = [2*i for i in range(5)]\n",
    "print(numbers)"
   ]
  },
  {
   "cell_type": "code",
   "execution_count": null,
   "metadata": {},
   "outputs": [],
   "source": []
  }
 ],
 "metadata": {
  "interpreter": {
   "hash": "b0fa6594d8f4cbf19f97940f81e996739fb7646882a419484c72d19e05852a7e"
  },
  "kernelspec": {
   "display_name": "Python 3.9.9 64-bit",
   "name": "python3"
  },
  "language_info": {
   "codemirror_mode": {
    "name": "ipython",
    "version": 3
   },
   "file_extension": ".py",
   "mimetype": "text/x-python",
   "name": "python",
   "nbconvert_exporter": "python",
   "pygments_lexer": "ipython3",
   "version": "3.9.9"
  }
 },
 "nbformat": 4,
 "nbformat_minor": 4
}
