{
 "cells": [
  {
   "cell_type": "markdown",
   "metadata": {},
   "source": [
    "# 04.制御構文(if文)"
   ]
  },
  {
   "cell_type": "markdown",
   "metadata": {},
   "source": [
    "\n",
    "## 問題23 if文を使って条件分岐\n",
    "\n",
    "####  if文を使って以下の処理を実装してください。  \n",
    "\n",
    "- int型の変数: num\n",
    "- numが以下の条件の時、コロン右側の文字列を出力する\n",
    "    - numが正の値の場合：　正の値です\n",
    "    - numが0の場合：0です\n",
    "    - numが負の値の場合: 負の値です\n",
    "\n",
    "（目安時間：1分）"
   ]
  },
  {
   "cell_type": "markdown",
   "metadata": {},
   "source": [
    "### 解答"
   ]
  },
  {
   "cell_type": "code",
   "execution_count": 1,
   "metadata": {},
   "outputs": [
    {
     "name": "stdout",
     "output_type": "stream",
     "text": [
      "負の値です\n"
     ]
    }
   ],
   "source": [
    "num = -1\n",
    "if 0<num:\n",
    "    print(\"正の値です\")\n",
    "elif num == 0:\n",
    "    print(\"0です\")\n",
    "else:\n",
    "    print(\"負の値です\")"
   ]
  },
  {
   "cell_type": "markdown",
   "metadata": {},
   "source": [
    "## 問題24 論理演算子を使って複数条件の指定\n",
    "\n",
    "#### 以下の条件分岐に対応する実装を行ってください。\n",
    "\n",
    "- aは整数\n",
    "- aが0以上10未満かつ偶数: 一桁の偶数です\n",
    "- aが0未満かつ奇数：負の奇数です\n",
    "- それ以外: 整数です\n",
    "\n",
    "（目安時間：2分）"
   ]
  },
  {
   "cell_type": "markdown",
   "metadata": {},
   "source": [
    "### 解答"
   ]
  },
  {
   "cell_type": "code",
   "execution_count": 5,
   "metadata": {},
   "outputs": [
    {
     "name": "stdout",
     "output_type": "stream",
     "text": [
      "負の奇数です\n"
     ]
    }
   ],
   "source": [
    "a = -3\n",
    "if 0<=a<10 and a%2==0:\n",
    "    print(\"一桁の偶数です\")\n",
    "elif a<0 and a%2!=0:\n",
    "    print(\"負の奇数です\")\n",
    "else:\n",
    "    print(\"整数です\")"
   ]
  }
 ],
 "metadata": {
  "interpreter": {
   "hash": "b0fa6594d8f4cbf19f97940f81e996739fb7646882a419484c72d19e05852a7e"
  },
  "kernelspec": {
   "display_name": "Python 3.9.9 64-bit",
   "name": "python3"
  },
  "language_info": {
   "codemirror_mode": {
    "name": "ipython",
    "version": 3
   },
   "file_extension": ".py",
   "mimetype": "text/x-python",
   "name": "python",
   "nbconvert_exporter": "python",
   "pygments_lexer": "ipython3",
   "version": "3.9.9"
  }
 },
 "nbformat": 4,
 "nbformat_minor": 4
}
