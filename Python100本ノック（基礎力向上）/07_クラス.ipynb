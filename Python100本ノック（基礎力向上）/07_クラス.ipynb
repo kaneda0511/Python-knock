{
 "cells": [
  {
   "cell_type": "markdown",
   "metadata": {},
   "source": [
    "# クラス"
   ]
  },
  {
   "cell_type": "markdown",
   "metadata": {},
   "source": [
    "## 問題37 classの基礎\n",
    "\n",
    "`Person`クラスを用意し、クラス変数として`nationality: 'japan'`、クラスメソッドとして`.say_hello()`実装しましょう。  \n",
    "ただしこちらのメソッドでは「こんにちは、私の国籍は{self.nationality}です。」と出力するようにしましょう。  \n",
    "\n",
    "（目安時間：2分）\n"
   ]
  },
  {
   "cell_type": "markdown",
   "metadata": {},
   "source": [
    "### 解答"
   ]
  },
  {
   "cell_type": "code",
   "execution_count": 10,
   "metadata": {},
   "outputs": [],
   "source": [
    "class Person:\n",
    "    nationality = \"Japan\"\n",
    "    # self忘れずに\n",
    "    def say_hello(self):\n",
    "        # {self.nationalitiy}となることに注意\n",
    "        print(f\"こんにちは、私の国籍は,{self.nationality}です\")"
   ]
  },
  {
   "cell_type": "code",
   "execution_count": 12,
   "metadata": {},
   "outputs": [],
   "source": [
    "# クラスのインスタンス化\n",
    "person = Person()"
   ]
  },
  {
   "cell_type": "code",
   "execution_count": 13,
   "metadata": {},
   "outputs": [
    {
     "data": {
      "text/plain": [
       "'Japan'"
      ]
     },
     "execution_count": 13,
     "metadata": {},
     "output_type": "execute_result"
    }
   ],
   "source": [
    "person.nationality"
   ]
  },
  {
   "cell_type": "code",
   "execution_count": 14,
   "metadata": {},
   "outputs": [
    {
     "name": "stdout",
     "output_type": "stream",
     "text": [
      "こんにちは、私の国籍は,Japanです\n"
     ]
    }
   ],
   "source": [
    "person.say_hello()"
   ]
  },
  {
   "cell_type": "markdown",
   "metadata": {},
   "source": [
    "## 問題38 コンストラクタの設定\n",
    "\n",
    "続いて、先ほどの`Person`クラスにコンストラクタ(インスタンス生成時に呼び出される関数)を使って、引数に名前を設定して`.name`というインスタンス変数を持たせましょう。  \n",
    "また`say_my_name()`という自分の名前を出力するクラスメソッドを実装しましょう。\n",
    "\n",
    "```python\n",
    "class Person:\n",
    "    nationality = '日本'\n",
    "        \n",
    "    def say_hello(self):\n",
    "        print(f'こんにちは、私の国籍は{self.nationality}です。')\n",
    "        \n",
    "    def say_my_name():\n",
    "        print(f'私の名前は{}です。')\n",
    "```\n",
    "\n",
    "（目安時間：1分）"
   ]
  },
  {
   "cell_type": "markdown",
   "metadata": {},
   "source": [
    "### 解答"
   ]
  },
  {
   "cell_type": "code",
   "execution_count": 19,
   "metadata": {},
   "outputs": [],
   "source": [
    "class Person:\n",
    "    nationality = \"Japan\"\n",
    "\n",
    "    def __init__(self,name):  # これがコンストラクタ\n",
    "        self.name = name\n",
    "        \n",
    "    def say_hello(self):\n",
    "        print(f'こんにちは、私の国籍は{self.nationality}です。')\n",
    "\n",
    "    def say_my_name(self):\n",
    "        print(f\"私の名前は{self.name}です。\")\n",
    "    "
   ]
  },
  {
   "cell_type": "code",
   "execution_count": 20,
   "metadata": {},
   "outputs": [],
   "source": [
    "kaneda = Person(\"金田\")"
   ]
  },
  {
   "cell_type": "code",
   "execution_count": 21,
   "metadata": {},
   "outputs": [
    {
     "data": {
      "text/plain": [
       "'Japan'"
      ]
     },
     "execution_count": 21,
     "metadata": {},
     "output_type": "execute_result"
    }
   ],
   "source": [
    "kaneda.nationality"
   ]
  },
  {
   "cell_type": "code",
   "execution_count": 22,
   "metadata": {},
   "outputs": [
    {
     "data": {
      "text/plain": [
       "'金田'"
      ]
     },
     "execution_count": 22,
     "metadata": {},
     "output_type": "execute_result"
    }
   ],
   "source": [
    "kaneda.name"
   ]
  },
  {
   "cell_type": "code",
   "execution_count": 24,
   "metadata": {},
   "outputs": [
    {
     "name": "stdout",
     "output_type": "stream",
     "text": [
      "こんにちは、私の国籍はJapanです。\n"
     ]
    }
   ],
   "source": [
    "kaneda.say_hello()"
   ]
  },
  {
   "cell_type": "code",
   "execution_count": 25,
   "metadata": {},
   "outputs": [
    {
     "name": "stdout",
     "output_type": "stream",
     "text": [
      "私の名前は金田です。\n"
     ]
    }
   ],
   "source": [
    "kaneda.say_my_name()"
   ]
  },
  {
   "cell_type": "markdown",
   "metadata": {},
   "source": [
    "## 問題39 クラスの継承\n",
    "\n",
    "先ほどの`Person`クラスを継承した`Kid`クラスを作成しましょう。  \n",
    "その際に自分の年齢を出力するようにクラスメソッド`say_hello(age)`(年齢を引数)を変更しましょう。  \n",
    "またそれらがきちんと動作しているか次のコードで確認しましょう。\n",
    "\n",
    "```python\n",
    "kid = Kid('航平')\n",
    "kid.say_hello(9)\n",
    ">>> 私の名前は航平です。年齢は9才です。\n",
    "```\n",
    "（目安時間：2分）"
   ]
  },
  {
   "cell_type": "markdown",
   "metadata": {},
   "source": [
    "### 解答"
   ]
  },
  {
   "cell_type": "code",
   "execution_count": 26,
   "metadata": {},
   "outputs": [],
   "source": [
    "class Kid(Person):\n",
    "    def say_hello(self,age):\n",
    "        print(f\"私の名前は{self.name}です。年齢は{age}歳です。\")"
   ]
  },
  {
   "cell_type": "code",
   "execution_count": 28,
   "metadata": {},
   "outputs": [],
   "source": [
    "kid = Kid(\"金田\")"
   ]
  },
  {
   "cell_type": "code",
   "execution_count": 29,
   "metadata": {},
   "outputs": [
    {
     "data": {
      "text/plain": [
       "'金田'"
      ]
     },
     "execution_count": 29,
     "metadata": {},
     "output_type": "execute_result"
    }
   ],
   "source": [
    "kid.name"
   ]
  },
  {
   "cell_type": "code",
   "execution_count": 30,
   "metadata": {},
   "outputs": [
    {
     "data": {
      "text/plain": [
       "'Japan'"
      ]
     },
     "execution_count": 30,
     "metadata": {},
     "output_type": "execute_result"
    }
   ],
   "source": [
    "kid.nationality"
   ]
  },
  {
   "cell_type": "code",
   "execution_count": 33,
   "metadata": {},
   "outputs": [
    {
     "name": "stdout",
     "output_type": "stream",
     "text": [
      "私の名前は金田です。\n"
     ]
    }
   ],
   "source": [
    "kid.say_my_name()"
   ]
  },
  {
   "cell_type": "code",
   "execution_count": 35,
   "metadata": {},
   "outputs": [
    {
     "name": "stdout",
     "output_type": "stream",
     "text": [
      "私の名前は金田です。年齢は12歳です。\n"
     ]
    }
   ],
   "source": [
    "kid.say_hello(12)"
   ]
  },
  {
   "cell_type": "markdown",
   "metadata": {},
   "source": [
    "## 問題40 privateとpublic\n",
    "先ほどの`Person`クラス内のクラス変数の`nationality`を`__nationality`へ変更し外部から呼び出せないprivateな変数になっていることを確認しましょう。  \n",
    "また同様に` say_my_name()`関数も`__ say_my_name()`と修正し、外部から呼び出せないことを確認しましょう。\n",
    "\n",
    "```python\n",
    "# 修正前\n",
    "person = Person('今西')\n",
    "person.say_hello()\n",
    ">>> 'こんにちは、私の国籍は日本です。'\n",
    "person.say_my_name()\n",
    ">>> '私の名前は今西です。'\n",
    "person.nationality\n",
    ">>> '日本'\n",
    "\n",
    "# 修正\n",
    "class Person:\n",
    "    __nationality = '日本'\n",
    "    \n",
    "    def __init__(self, name):\n",
    "        self.name = name\n",
    "\n",
    "    def say_hello(self):\n",
    "        print(f'こんにちは、私の国籍は{self.__nationality}です。')\n",
    "        self.__say_my_name()\n",
    "\n",
    "    def __say_my_name(self):\n",
    "        print(f'私の名前は{self.name}です。')\n",
    "\n",
    "# 修正後\n",
    "person = Person('今西')\n",
    "person.say_hello()\n",
    ">>> 'こんにちは、私の国籍は日本です。'\n",
    "    '私の名前は今西です。'\n",
    "    \n",
    "person.__say_my_name()\n",
    ">>> AttributeError: 'Person' object has no attribute '__say_my_name'\n",
    "person.__nationality\n",
    ">>> AttributeError: 'Person' object has no attribute '__nationality'\n",
    "\n",
    "```\n",
    "\n",
    "（目安時間：1分）\n"
   ]
  },
  {
   "cell_type": "markdown",
   "metadata": {},
   "source": [
    "### 解答"
   ]
  },
  {
   "cell_type": "code",
   "execution_count": 51,
   "metadata": {},
   "outputs": [],
   "source": [
    "class Person:\n",
    "    __nationality = 'Japan' # プライベート化\n",
    "\n",
    "    def __init__(self,name):\n",
    "        self.name = name\n",
    "        \n",
    "    def say_hello(self):\n",
    "        print(f'こんにちは、私の国籍は{self.__nationality}です。')\n",
    "        \n",
    "    def __say_my_name():  # プライベート化\n",
    "        print(f'私の名前は{self.name}です。')"
   ]
  },
  {
   "cell_type": "code",
   "execution_count": 52,
   "metadata": {},
   "outputs": [],
   "source": [
    "kaneda = Person(\"金田\")"
   ]
  },
  {
   "cell_type": "code",
   "execution_count": 53,
   "metadata": {},
   "outputs": [
    {
     "ename": "AttributeError",
     "evalue": "'Person' object has no attribute '__nationality'",
     "output_type": "error",
     "traceback": [
      "\u001b[0;31m---------------------------------------------------------------------------\u001b[0m",
      "\u001b[0;31mAttributeError\u001b[0m                            Traceback (most recent call last)",
      "\u001b[0;32m/var/folders/84/r3ff3p5977l5y2fvhc9v0xxh0000gn/T/ipykernel_8539/3288503325.py\u001b[0m in \u001b[0;36m<module>\u001b[0;34m\u001b[0m\n\u001b[0;32m----> 1\u001b[0;31m \u001b[0mkaneda\u001b[0m\u001b[0;34m.\u001b[0m\u001b[0m__nationality\u001b[0m\u001b[0;34m\u001b[0m\u001b[0;34m\u001b[0m\u001b[0m\n\u001b[0m",
      "\u001b[0;31mAttributeError\u001b[0m: 'Person' object has no attribute '__nationality'"
     ]
    }
   ],
   "source": [
    "kaneda.__nationality"
   ]
  },
  {
   "cell_type": "markdown",
   "metadata": {},
   "source": [
    "先頭にアンダーバー(_)を二つつけることによってプライベートに変更することができる"
   ]
  },
  {
   "cell_type": "code",
   "execution_count": 57,
   "metadata": {},
   "outputs": [
    {
     "name": "stdout",
     "output_type": "stream",
     "text": [
      "こんにちは、私の国籍はJapanです。\n"
     ]
    }
   ],
   "source": [
    "kaneda.say_hello()"
   ]
  },
  {
   "cell_type": "code",
   "execution_count": null,
   "metadata": {},
   "outputs": [],
   "source": []
  }
 ],
 "metadata": {
  "interpreter": {
   "hash": "b0fa6594d8f4cbf19f97940f81e996739fb7646882a419484c72d19e05852a7e"
  },
  "kernelspec": {
   "display_name": "Python 3.9.9 64-bit",
   "name": "python3"
  },
  "language_info": {
   "codemirror_mode": {
    "name": "ipython",
    "version": 3
   },
   "file_extension": ".py",
   "mimetype": "text/x-python",
   "name": "python",
   "nbconvert_exporter": "python",
   "pygments_lexer": "ipython3",
   "version": "3.9.9"
  }
 },
 "nbformat": 4,
 "nbformat_minor": 4
}
